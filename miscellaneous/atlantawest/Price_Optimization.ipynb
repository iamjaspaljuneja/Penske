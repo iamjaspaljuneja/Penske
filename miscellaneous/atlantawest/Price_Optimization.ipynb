{
 "cells": [
  {
   "cell_type": "code",
   "execution_count": 1,
   "id": "b84f85f7-8dfc-4254-aba7-cac94e82ccf1",
   "metadata": {},
   "outputs": [],
   "source": [
    "# Data Processing\n",
    "import pandas as pd\n",
    "import numpy as np\n",
    "import matplotlib.pyplot as plt\n",
    "\n",
    "# Modelling\n",
    "from sklearn.ensemble import RandomForestRegressor\n",
    "from sklearn.metrics import accuracy_score, confusion_matrix, precision_score, recall_score, ConfusionMatrixDisplay\n",
    "from sklearn.model_selection import RandomizedSearchCV, train_test_split\n",
    "from scipy.stats import randint\n",
    "import joblib\n",
    "\n",
    "# Tree Visualisation\n",
    "from sklearn.tree import export_graphviz\n",
    "from IPython.display import Image\n",
    "import graphviz"
   ]
  },
  {
   "cell_type": "code",
   "execution_count": 2,
   "id": "52e9986d-f5c1-4375-b210-db192a7cf231",
   "metadata": {},
   "outputs": [],
   "source": [
    "rf = joblib.load(\"./random_forest.joblib\")"
   ]
  },
  {
   "cell_type": "code",
   "execution_count": 6,
   "id": "a048f8c1-6e19-4eaf-8749-f20ebd37705d",
   "metadata": {},
   "outputs": [],
   "source": [
    "data = pd.read_excel('Data_Atlanta_West.xlsx', sheet_name='Sheet1')"
   ]
  },
  {
   "cell_type": "code",
   "execution_count": 3,
   "id": "5aaec1cc-2886-4473-8430-b7a6af25a8e2",
   "metadata": {},
   "outputs": [],
   "source": [
    "def simulate_demand(columns, entry, rate_day, rate_mile, demand_forecasting_model):\n",
    "    # Assuming you have a model that predicts demand based on price and weather\n",
    "    # Replace this with your actual demand forecasting model\n",
    "    entry['RATE DAY'] = rate_day\n",
    "    entry['RATE MILE'] = rate_mile\n",
    "    entry_array = entry.values.reshape(1, -1)\n",
    "    i=[0,4,5,1,2,3]\n",
    "    entry_array = entry_array[:,i]\n",
    "    entry_df = pd.DataFrame(entry_array, columns=columns)\n",
    "    predicted_demand = demand_forecasting_model.predict(entry_df)\n",
    "\n",
    "    # You might have more complex logic here, but for demonstration purposes:\n",
    "    estimated_demand = predicted_demand[0]  # Assuming the model predicts a single value\n",
    "    return estimated_demand"
   ]
  },
  {
   "cell_type": "code",
   "execution_count": 4,
   "id": "6e5eb9f1-59d7-4b83-b53d-024a16eb36ae",
   "metadata": {},
   "outputs": [],
   "source": [
    "def optimize_prices(columns, transaction, initial_demand, initial_day, initial_mile, max_iterations=10, day_step=.5, mile_step=0.01, demand_threshold=0.92, lower_demand_threshold=0.70):\n",
    "    best_prices = (initial_day, initial_mile)\n",
    "    best_demand = initial_demand\n",
    "\n",
    "    for day_rate in np.arange(initial_day - max_iterations * day_step, initial_day + max_iterations * day_step, day_step):\n",
    "        for mile_rate in np.arange(initial_mile - max_iterations * mile_step, initial_mile + max_iterations * mile_step, mile_step):\n",
    "            demand = simulate_demand(columns, transaction, day_rate, mile_rate, rf)\n",
    "            print(demand, day_rate, mile_rate)\n",
    "            if initial_demand <= demand <= demand_threshold and demand > best_demand:\n",
    "                best_demand = demand\n",
    "                best_prices = (day_rate, mile_rate)\n",
    "\n",
    "    return best_prices, best_demand"
   ]
  },
  {
   "cell_type": "code",
   "execution_count": 8,
   "id": "7ea80469-d0fa-4930-883f-93b6b4a1ae0b",
   "metadata": {},
   "outputs": [
    {
     "name": "stdout",
     "output_type": "stream",
     "text": [
      "Isolated Row DATE OUT                2015-01-16 00:00:00\n",
      "TIME OUT                           12:55:00\n",
      "TIME IN                            12:30:00\n",
      "DATE IN                 2015-01-17 00:00:00\n",
      "RATE DAY                              46.99\n",
      "RATE WEEK                            328.93\n",
      "RATE MILE                              0.99\n",
      "MILES USED                               69\n",
      "FUEL LOST                                 4\n",
      "DAMAGED                                   0\n",
      "DURATION                                  1\n",
      "MILEAGE PRICE                         68.31\n",
      "BOARD PRICE                           46.99\n",
      "EXP PRICE                             115.3\n",
      "GROUP                                     3\n",
      "SumOfFLEET Gas                           39\n",
      "SumOfFLEET Parcel                        69\n",
      "SumOfFLEET All                          109\n",
      "Utilization Rate All               0.706422\n",
      "Name: 0, dtype: object, DATE OUT                2015-01-16 00:00:00\n",
      "TIME OUT                           12:55:00\n",
      "TIME IN                            12:30:00\n",
      "DATE IN                 2015-01-17 00:00:00\n",
      "RATE DAY                              46.99\n",
      "RATE WEEK                            328.93\n",
      "RATE MILE                              0.99\n",
      "MILES USED                               69\n",
      "FUEL LOST                                 4\n",
      "DAMAGED                                   0\n",
      "DURATION                                  1\n",
      "MILEAGE PRICE                         68.31\n",
      "BOARD PRICE                           46.99\n",
      "EXP PRICE                             115.3\n",
      "GROUP                                     3\n",
      "SumOfFLEET Gas                           39\n",
      "SumOfFLEET Parcel                        69\n",
      "SumOfFLEET All                          109\n",
      "Utilization Rate All               0.706422\n",
      "Name: 0, dtype: object\n"
     ]
    },
    {
     "ename": "ValueError",
     "evalue": "Shape of passed values is (1, 6), indices imply (1, 19)",
     "output_type": "error",
     "traceback": [
      "\u001b[1;31m---------------------------------------------------------------------------\u001b[0m",
      "\u001b[1;31mValueError\u001b[0m                                Traceback (most recent call last)",
      "Cell \u001b[1;32mIn[8], line 12\u001b[0m\n\u001b[0;32m     10\u001b[0m demand \u001b[38;5;241m=\u001b[39m data\u001b[38;5;241m.\u001b[39miloc[\u001b[38;5;241m0\u001b[39m]\n\u001b[0;32m     11\u001b[0m \u001b[38;5;28mprint\u001b[39m(\u001b[38;5;124mf\u001b[39m\u001b[38;5;124m\"\u001b[39m\u001b[38;5;124mIsolated Row \u001b[39m\u001b[38;5;132;01m{\u001b[39;00mdata\u001b[38;5;241m.\u001b[39miloc[\u001b[38;5;241m0\u001b[39m]\u001b[38;5;132;01m}\u001b[39;00m\u001b[38;5;124m, \u001b[39m\u001b[38;5;132;01m{\u001b[39;00mdata\u001b[38;5;241m.\u001b[39miloc[\u001b[38;5;241m0\u001b[39m]\u001b[38;5;132;01m}\u001b[39;00m\u001b[38;5;124m\"\u001b[39m)\n\u001b[1;32m---> 12\u001b[0m optimal_price, optimal_demand \u001b[38;5;241m=\u001b[39m \u001b[43moptimize_prices\u001b[49m\u001b[43m(\u001b[49m\u001b[43mcolumns\u001b[49m\u001b[43m,\u001b[49m\u001b[43m \u001b[49m\u001b[43misolated_row\u001b[49m\u001b[43m,\u001b[49m\u001b[43m \u001b[49m\u001b[43mdemand\u001b[49m\u001b[43m,\u001b[49m\u001b[43m \u001b[49m\u001b[43mdata\u001b[49m\u001b[38;5;241;43m.\u001b[39;49m\u001b[43miloc\u001b[49m\u001b[43m[\u001b[49m\u001b[38;5;241;43m0\u001b[39;49m\u001b[43m]\u001b[49m\u001b[43m[\u001b[49m\u001b[38;5;124;43m'\u001b[39;49m\u001b[38;5;124;43mRATE DAY\u001b[39;49m\u001b[38;5;124;43m'\u001b[39;49m\u001b[43m]\u001b[49m\u001b[43m,\u001b[49m\u001b[43m  \u001b[49m\u001b[43mdata\u001b[49m\u001b[38;5;241;43m.\u001b[39;49m\u001b[43miloc\u001b[49m\u001b[43m[\u001b[49m\u001b[38;5;241;43m0\u001b[39;49m\u001b[43m]\u001b[49m\u001b[43m[\u001b[49m\u001b[38;5;124;43m'\u001b[39;49m\u001b[38;5;124;43mRATE MILE\u001b[39;49m\u001b[38;5;124;43m'\u001b[39;49m\u001b[43m]\u001b[49m\u001b[43m)\u001b[49m\n\u001b[0;32m     13\u001b[0m \u001b[38;5;28mprint\u001b[39m(\u001b[38;5;124mf\u001b[39m\u001b[38;5;124m\"\u001b[39m\u001b[38;5;124mOptimal Price: \u001b[39m\u001b[38;5;132;01m{\u001b[39;00moptimal_price\u001b[38;5;132;01m}\u001b[39;00m\u001b[38;5;124m, Corresponding Demand: \u001b[39m\u001b[38;5;132;01m{\u001b[39;00moptimal_demand\u001b[38;5;132;01m}\u001b[39;00m\u001b[38;5;124m\"\u001b[39m)\n",
      "Cell \u001b[1;32mIn[4], line 7\u001b[0m, in \u001b[0;36moptimize_prices\u001b[1;34m(columns, transaction, initial_demand, initial_day, initial_mile, max_iterations, day_step, mile_step, demand_threshold, lower_demand_threshold)\u001b[0m\n\u001b[0;32m      5\u001b[0m \u001b[38;5;28;01mfor\u001b[39;00m day_rate \u001b[38;5;129;01min\u001b[39;00m np\u001b[38;5;241m.\u001b[39marange(initial_day \u001b[38;5;241m-\u001b[39m max_iterations \u001b[38;5;241m*\u001b[39m day_step, initial_day \u001b[38;5;241m+\u001b[39m max_iterations \u001b[38;5;241m*\u001b[39m day_step, day_step):\n\u001b[0;32m      6\u001b[0m     \u001b[38;5;28;01mfor\u001b[39;00m mile_rate \u001b[38;5;129;01min\u001b[39;00m np\u001b[38;5;241m.\u001b[39marange(initial_mile \u001b[38;5;241m-\u001b[39m max_iterations \u001b[38;5;241m*\u001b[39m mile_step, initial_mile \u001b[38;5;241m+\u001b[39m max_iterations \u001b[38;5;241m*\u001b[39m mile_step, mile_step):\n\u001b[1;32m----> 7\u001b[0m         demand \u001b[38;5;241m=\u001b[39m \u001b[43msimulate_demand\u001b[49m\u001b[43m(\u001b[49m\u001b[43mcolumns\u001b[49m\u001b[43m,\u001b[49m\u001b[43m \u001b[49m\u001b[43mtransaction\u001b[49m\u001b[43m,\u001b[49m\u001b[43m \u001b[49m\u001b[43mday_rate\u001b[49m\u001b[43m,\u001b[49m\u001b[43m \u001b[49m\u001b[43mmile_rate\u001b[49m\u001b[43m,\u001b[49m\u001b[43m \u001b[49m\u001b[43mrf\u001b[49m\u001b[43m)\u001b[49m\n\u001b[0;32m      8\u001b[0m         \u001b[38;5;28mprint\u001b[39m(demand, day_rate, mile_rate)\n\u001b[0;32m      9\u001b[0m         \u001b[38;5;28;01mif\u001b[39;00m initial_demand \u001b[38;5;241m<\u001b[39m\u001b[38;5;241m=\u001b[39m demand \u001b[38;5;241m<\u001b[39m\u001b[38;5;241m=\u001b[39m demand_threshold \u001b[38;5;129;01mand\u001b[39;00m demand \u001b[38;5;241m>\u001b[39m best_demand:\n",
      "Cell \u001b[1;32mIn[3], line 9\u001b[0m, in \u001b[0;36msimulate_demand\u001b[1;34m(columns, entry, rate_day, rate_mile, demand_forecasting_model)\u001b[0m\n\u001b[0;32m      7\u001b[0m i\u001b[38;5;241m=\u001b[39m[\u001b[38;5;241m0\u001b[39m,\u001b[38;5;241m4\u001b[39m,\u001b[38;5;241m5\u001b[39m,\u001b[38;5;241m1\u001b[39m,\u001b[38;5;241m2\u001b[39m,\u001b[38;5;241m3\u001b[39m]\n\u001b[0;32m      8\u001b[0m entry_array \u001b[38;5;241m=\u001b[39m entry_array[:,i]\n\u001b[1;32m----> 9\u001b[0m entry_df \u001b[38;5;241m=\u001b[39m \u001b[43mpd\u001b[49m\u001b[38;5;241;43m.\u001b[39;49m\u001b[43mDataFrame\u001b[49m\u001b[43m(\u001b[49m\u001b[43mentry_array\u001b[49m\u001b[43m,\u001b[49m\u001b[43m \u001b[49m\u001b[43mcolumns\u001b[49m\u001b[38;5;241;43m=\u001b[39;49m\u001b[43mcolumns\u001b[49m\u001b[43m)\u001b[49m\n\u001b[0;32m     10\u001b[0m predicted_demand \u001b[38;5;241m=\u001b[39m demand_forecasting_model\u001b[38;5;241m.\u001b[39mpredict(entry_df)\n\u001b[0;32m     12\u001b[0m \u001b[38;5;66;03m# You might have more complex logic here, but for demonstration purposes:\u001b[39;00m\n",
      "File \u001b[1;32m~\\AppData\\Local\\Programs\\Python\\Python311\\Lib\\site-packages\\pandas\\core\\frame.py:782\u001b[0m, in \u001b[0;36mDataFrame.__init__\u001b[1;34m(self, data, index, columns, dtype, copy)\u001b[0m\n\u001b[0;32m    771\u001b[0m         mgr \u001b[38;5;241m=\u001b[39m dict_to_mgr(\n\u001b[0;32m    772\u001b[0m             \u001b[38;5;66;03m# error: Item \"ndarray\" of \"Union[ndarray, Series, Index]\" has no\u001b[39;00m\n\u001b[0;32m    773\u001b[0m             \u001b[38;5;66;03m# attribute \"name\"\u001b[39;00m\n\u001b[1;32m   (...)\u001b[0m\n\u001b[0;32m    779\u001b[0m             copy\u001b[38;5;241m=\u001b[39m_copy,\n\u001b[0;32m    780\u001b[0m         )\n\u001b[0;32m    781\u001b[0m     \u001b[38;5;28;01melse\u001b[39;00m:\n\u001b[1;32m--> 782\u001b[0m         mgr \u001b[38;5;241m=\u001b[39m \u001b[43mndarray_to_mgr\u001b[49m\u001b[43m(\u001b[49m\n\u001b[0;32m    783\u001b[0m \u001b[43m            \u001b[49m\u001b[43mdata\u001b[49m\u001b[43m,\u001b[49m\n\u001b[0;32m    784\u001b[0m \u001b[43m            \u001b[49m\u001b[43mindex\u001b[49m\u001b[43m,\u001b[49m\n\u001b[0;32m    785\u001b[0m \u001b[43m            \u001b[49m\u001b[43mcolumns\u001b[49m\u001b[43m,\u001b[49m\n\u001b[0;32m    786\u001b[0m \u001b[43m            \u001b[49m\u001b[43mdtype\u001b[49m\u001b[38;5;241;43m=\u001b[39;49m\u001b[43mdtype\u001b[49m\u001b[43m,\u001b[49m\n\u001b[0;32m    787\u001b[0m \u001b[43m            \u001b[49m\u001b[43mcopy\u001b[49m\u001b[38;5;241;43m=\u001b[39;49m\u001b[43mcopy\u001b[49m\u001b[43m,\u001b[49m\n\u001b[0;32m    788\u001b[0m \u001b[43m            \u001b[49m\u001b[43mtyp\u001b[49m\u001b[38;5;241;43m=\u001b[39;49m\u001b[43mmanager\u001b[49m\u001b[43m,\u001b[49m\n\u001b[0;32m    789\u001b[0m \u001b[43m        \u001b[49m\u001b[43m)\u001b[49m\n\u001b[0;32m    791\u001b[0m \u001b[38;5;66;03m# For data is list-like, or Iterable (will consume into list)\u001b[39;00m\n\u001b[0;32m    792\u001b[0m \u001b[38;5;28;01melif\u001b[39;00m is_list_like(data):\n",
      "File \u001b[1;32m~\\AppData\\Local\\Programs\\Python\\Python311\\Lib\\site-packages\\pandas\\core\\internals\\construction.py:336\u001b[0m, in \u001b[0;36mndarray_to_mgr\u001b[1;34m(values, index, columns, dtype, copy, typ)\u001b[0m\n\u001b[0;32m    331\u001b[0m \u001b[38;5;66;03m# _prep_ndarraylike ensures that values.ndim == 2 at this point\u001b[39;00m\n\u001b[0;32m    332\u001b[0m index, columns \u001b[38;5;241m=\u001b[39m _get_axes(\n\u001b[0;32m    333\u001b[0m     values\u001b[38;5;241m.\u001b[39mshape[\u001b[38;5;241m0\u001b[39m], values\u001b[38;5;241m.\u001b[39mshape[\u001b[38;5;241m1\u001b[39m], index\u001b[38;5;241m=\u001b[39mindex, columns\u001b[38;5;241m=\u001b[39mcolumns\n\u001b[0;32m    334\u001b[0m )\n\u001b[1;32m--> 336\u001b[0m \u001b[43m_check_values_indices_shape_match\u001b[49m\u001b[43m(\u001b[49m\u001b[43mvalues\u001b[49m\u001b[43m,\u001b[49m\u001b[43m \u001b[49m\u001b[43mindex\u001b[49m\u001b[43m,\u001b[49m\u001b[43m \u001b[49m\u001b[43mcolumns\u001b[49m\u001b[43m)\u001b[49m\n\u001b[0;32m    338\u001b[0m \u001b[38;5;28;01mif\u001b[39;00m typ \u001b[38;5;241m==\u001b[39m \u001b[38;5;124m\"\u001b[39m\u001b[38;5;124marray\u001b[39m\u001b[38;5;124m\"\u001b[39m:\n\u001b[0;32m    339\u001b[0m     \u001b[38;5;28;01mif\u001b[39;00m \u001b[38;5;28missubclass\u001b[39m(values\u001b[38;5;241m.\u001b[39mdtype\u001b[38;5;241m.\u001b[39mtype, \u001b[38;5;28mstr\u001b[39m):\n",
      "File \u001b[1;32m~\\AppData\\Local\\Programs\\Python\\Python311\\Lib\\site-packages\\pandas\\core\\internals\\construction.py:420\u001b[0m, in \u001b[0;36m_check_values_indices_shape_match\u001b[1;34m(values, index, columns)\u001b[0m\n\u001b[0;32m    418\u001b[0m passed \u001b[38;5;241m=\u001b[39m values\u001b[38;5;241m.\u001b[39mshape\n\u001b[0;32m    419\u001b[0m implied \u001b[38;5;241m=\u001b[39m (\u001b[38;5;28mlen\u001b[39m(index), \u001b[38;5;28mlen\u001b[39m(columns))\n\u001b[1;32m--> 420\u001b[0m \u001b[38;5;28;01mraise\u001b[39;00m \u001b[38;5;167;01mValueError\u001b[39;00m(\u001b[38;5;124mf\u001b[39m\u001b[38;5;124m\"\u001b[39m\u001b[38;5;124mShape of passed values is \u001b[39m\u001b[38;5;132;01m{\u001b[39;00mpassed\u001b[38;5;132;01m}\u001b[39;00m\u001b[38;5;124m, indices imply \u001b[39m\u001b[38;5;132;01m{\u001b[39;00mimplied\u001b[38;5;132;01m}\u001b[39;00m\u001b[38;5;124m\"\u001b[39m)\n",
      "\u001b[1;31mValueError\u001b[0m: Shape of passed values is (1, 6), indices imply (1, 19)"
     ]
    }
   ],
   "source": [
    "columns = data.columns\n",
    "# for x in range(10):\n",
    "#     isolated_row = test_features.iloc[x].drop(['RATE DAY', 'RATE MILE'])\n",
    "#     demand = test_labels.iloc[x]\n",
    "#     print(f\"Isolated Row {test_features.iloc[x]}, {test_labels.iloc[x]}\")\n",
    "#     optimal_price, optimal_demand = optimize_prices(columns, isolated_row, demand, test_features.iloc[x]['RATE DAY'],  test_features.iloc[x]['RATE MILE'])\n",
    "#     print(f\"Optimal Price: {optimal_price}, Corresponding Demand: {optimal_demand}\")\n",
    "\n",
    "isolated_row = data.iloc[0].drop(['RATE DAY', 'RATE MILE'])\n",
    "demand = data.iloc[0]\n",
    "print(f\"Isolated Row {data.iloc[0]}, {data.iloc[0]}\")\n",
    "optimal_price, optimal_demand = optimize_prices(columns, isolated_row, demand, data.iloc[0]['RATE DAY'],  data.iloc[0]['RATE MILE'])\n",
    "print(f\"Optimal Price: {optimal_price}, Corresponding Demand: {optimal_demand}\")"
   ]
  }
 ],
 "metadata": {
  "kernelspec": {
   "display_name": "Python 3 (ipykernel)",
   "language": "python",
   "name": "python3"
  },
  "language_info": {
   "codemirror_mode": {
    "name": "ipython",
    "version": 3
   },
   "file_extension": ".py",
   "mimetype": "text/x-python",
   "name": "python",
   "nbconvert_exporter": "python",
   "pygments_lexer": "ipython3",
   "version": "3.11.3"
  }
 },
 "nbformat": 4,
 "nbformat_minor": 5
}
