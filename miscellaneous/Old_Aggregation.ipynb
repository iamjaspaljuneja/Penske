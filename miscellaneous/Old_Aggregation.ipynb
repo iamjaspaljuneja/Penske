{
 "cells": [
  {
   "cell_type": "code",
   "execution_count": null,
   "id": "ea865edc-0017-47fe-9afe-5083a6a299d8",
   "metadata": {},
   "outputs": [],
   "source": [
    "\n",
    "# Data Processing\n",
    "import pandas as pd\n",
    "import numpy as np\n",
    "import matplotlib.pyplot as plt\n",
    "\n",
    "# Modelling\n",
    "from sklearn.ensemble import RandomForestRegressor\n",
    "from sklearn.metrics import accuracy_score, confusion_matrix, precision_score, recall_score, ConfusionMatrixDisplay\n",
    "from sklearn.model_selection import RandomizedSearchCV, train_test_split\n",
    "from scipy.stats import randint\n",
    "\n",
    "# Tree Visualisation\n",
    "from sklearn.tree import export_graphviz\n",
    "from IPython.display import Image\n",
    "import graphviz"
   ]
  },
  {
   "cell_type": "code",
   "execution_count": null,
   "id": "95d7d2f5-de2c-4e97-87c7-83f0dd9bc5eb",
   "metadata": {},
   "outputs": [],
   "source": [
    "ld_trans = pd.read_excel('Specific Districts HH Local Lite Duty Detail 2015 - YTD 2023_10 (2).xlsx',sheet_name='All Data')\n",
    "util = pd.read_excel('Atlanta_West_15_19_Utilization.xlsx', sheet_name='Sheet1')\n",
    "\n",
    "#subset to atlanta_west district\n",
    "ld_trans = ld_trans[ld_trans['DISTRICT'] == '0030 - ATLANTA WEST FULTON     ']\n",
    "\n",
    "\n",
    "ld_trans.reset_index(inplace=True,drop=True)"
   ]
  },
  {
   "cell_type": "code",
   "execution_count": null,
   "id": "41128cfa-ff7a-4d5f-8163-90e1708c638a",
   "metadata": {},
   "outputs": [],
   "source": [
    "#subset to all utilization\n",
    "util = util[['Date', 'SumOfFLEET Gas', 'SumOfFLEET Parcel', 'SumOfFLEET All', 'Utilization Rate All']]"
   ]
  },
  {
   "cell_type": "code",
   "execution_count": null,
   "id": "55e86093-b897-418b-bc8d-34ed10cad7ec",
   "metadata": {},
   "outputs": [],
   "source": [
    "ld_trans['DURATION'] = (ld_trans['DATE IN'] - ld_trans['DATE OUT']).dt.total_seconds()/(24*60*60)\n",
    "ld_trans['MILEAGE PRICE'] = ld_trans['RATE MILE'] * ld_trans['MILES USED']\n",
    "ld_trans['FUEL LOST'] = ld_trans['FUEL_OUT_LEVEL'] - ld_trans['FUEL_IN_LEVEL']\n",
    "ld_trans['DAMAGED'] = ((ld_trans['DAMAGE_IN'] == 'Y') & (ld_trans['DAMAGE_OUT'] == 'N')).astype(int)\n",
    "\n",
    "bins = np.arange(0, 11, 1)  # This creates an array [0, 1, 2, ..., 10]\n",
    "\n",
    "ld_trans.loc[ld_trans['DURATION'] == 0, 'DURATION'] = 1\n",
    "\n",
    "ld_trans['BOARD PRICE'] = ld_trans['RATE DAY']*ld_trans['DURATION']\n",
    "ld_trans['EXP PRICE'] = ld_trans['BOARD PRICE'] + ld_trans['MILEAGE PRICE']"
   ]
  },
  {
   "cell_type": "code",
   "execution_count": null,
   "id": "ee62d505-68cf-4e91-8204-5a5338ac01d6",
   "metadata": {},
   "outputs": [],
   "source": [
    "cols = ['DATE OUT','TIME OUT','TIME IN','DATE IN','RATE DAY','RATE WEEK','RATE MILE','MILES USED','FUEL LOST','DAMAGED','DURATION','MILEAGE PRICE','BOARD PRICE','EXP PRICE','GROUP']\n",
    "\n",
    "\n",
    "ld_trans = ld_trans[cols]"
   ]
  },
  {
   "cell_type": "code",
   "execution_count": null,
   "id": "c7905335-5ebd-4d92-8224-0dee07d18260",
   "metadata": {},
   "outputs": [],
   "source": [
    "start_date = ld_trans['DATE OUT'].min()\n",
    "end_date = ld_trans['DATE IN'].max()\n",
    "\n",
    "ld_trans.loc[:, 'Date'] = ld_trans['DATE OUT']\n",
    "\n",
    "date_range = pd.date_range(start=start_date, end=end_date)\n",
    "\n",
    "# Create a dataframe with this date range\n",
    "df_base = pd.DataFrame(date_range, columns=['Date'])\n",
    "\n",
    "# Left join other datraframes with this base dataframe\n",
    "df_utilization_aligned = df_base.merge(util, on='Date', how='left')\n",
    "\n",
    "# 3. Merge the Data\n",
    "df_combined = ld_trans.merge(df_utilization_aligned, on='Date', how='left')"
   ]
  },
  {
   "cell_type": "code",
   "execution_count": null,
   "id": "76e91a6c-aba2-473c-859f-2c16c16caa2e",
   "metadata": {},
   "outputs": [],
   "source": [
    "def create_uhaul_price(current_date, reservation_date, duration, mileage):\n",
    "    \n",
    "    #get days reserved in advanced\n",
    "    adv = (reservation_date - current_date).total_seconds() / (60*60*24)\n",
    "    \n",
    "    board_rate = 19.95 * duration\n",
    "    mileage_rate = .59 if adv >= 2 else .69\n",
    "    \n",
    "    return board_rate + mileage_rate * mileage"
   ]
  },
  {
   "cell_type": "code",
   "execution_count": null,
   "id": "6b87da1c-ef5c-4a1d-8528-851ee2593892",
   "metadata": {},
   "outputs": [],
   "source": [
    "data = df_combined.dropna().drop('Date',axis=1)\n",
    "\n",
    "mapping = {'LITE DUTY DIESEL': 1,\n",
    "           'LITE DUTY GAS': 2,\n",
    "           'PARCEL VAN-LITE DUTY': 3}\n",
    "\n",
    "data['GROUP'] = data['GROUP'].replace(mapping)\n",
    "\n",
    "data.reset_index(inplace=True,drop=True)\n",
    "#data['UHAUL PRICE'] = [create_uhaul_price(data.loc[i,'RES CREATED'], data.loc[i,'DATE OUT'], data.loc[i,'DURATION'], data.loc[i,'MILES USED']) for i in range(len(data))]"
   ]
  },
  {
   "cell_type": "code",
   "execution_count": null,
   "id": "8ae07adc-3b1f-43c9-93db-c93f7c066ea7",
   "metadata": {},
   "outputs": [],
   "source": [
    "data.to_excel('Data_Atlanta_West.xlsx',index=False)"
   ]
  }
 ],
 "metadata": {
  "kernelspec": {
   "display_name": "Python 3 (ipykernel)",
   "language": "python",
   "name": "python3"
  },
  "language_info": {
   "codemirror_mode": {
    "name": "ipython",
    "version": 3
   },
   "file_extension": ".py",
   "mimetype": "text/x-python",
   "name": "python",
   "nbconvert_exporter": "python",
   "pygments_lexer": "ipython3",
   "version": "3.11.3"
  }
 },
 "nbformat": 4,
 "nbformat_minor": 5
}
